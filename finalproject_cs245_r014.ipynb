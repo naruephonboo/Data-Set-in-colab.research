{
  "nbformat": 4,
  "nbformat_minor": 0,
  "metadata": {
    "colab": {
      "provenance": [],
      "include_colab_link": true
    },
    "kernelspec": {
      "name": "python3",
      "display_name": "Python 3"
    },
    "language_info": {
      "name": "python"
    }
  },
  "cells": [
    {
      "cell_type": "markdown",
      "metadata": {
        "id": "view-in-github",
        "colab_type": "text"
      },
      "source": [
        "<a href=\"https://colab.research.google.com/github/naruephonboo/Data-Set-in-colab.research/blob/main/finalproject_cs245_r014.ipynb\" target=\"_parent\"><img src=\"https://colab.research.google.com/assets/colab-badge.svg\" alt=\"Open In Colab\"/></a>"
      ]
    },
    {
      "cell_type": "markdown",
      "source": [
        "# กลุ่ม R014\n",
        "1. 6309681333 นฤภร บุญยวง\n",
        "2. 6409610703 ภูริพงศ์ นวลใย\n",
        "3. 6409610711 ยัสมิน บือแนสะเตง "
      ],
      "metadata": {
        "id": "hk_ZZowmc13B"
      }
    },
    {
      "cell_type": "markdown",
      "source": [
        "\n",
        "# Data Set\n",
        "This dataset is about applying for a computer scientist job in order to study the job turnover rate due to various environmental factors such as university education. Characteristics of the city and the type of company applied for by collecting data in the form of a csv file and separating them into columns as follows.\n",
        "*   enrollee_id : Unique ID for candidate\n",
        "* city: City code\n",
        "* city_ development _index : Developement index of the city (scaled)\n",
        "* gender: Gender of candidate\n",
        "* relevent_experience: Relevant experience of candidate\n",
        "* enrolled_university: Type of University course enrolled if any\n",
        "* education_level: Education level of candidate\n",
        "* major_discipline :Education major discipline of candidate\n",
        "* experience: Candidate total experience in years\n",
        "* company_size: No of employees in current employer's company\n",
        "* company_type : Type of current employer\n",
        "* lastnewjob: Difference in years between previous job and current job\n",
        "* training_hours: training hours completed\n",
        "\n",
        "\n"
      ],
      "metadata": {
        "id": "Fn2_8X5ExqaT"
      }
    },
    {
      "cell_type": "markdown",
      "source": [
        "#  Import Required Packages"
      ],
      "metadata": {
        "id": "LU0fBwH6dLwd"
      }
    },
    {
      "cell_type": "code",
      "source": [
        "from google.colab import drive\n",
        "drive.mount('/content/drive')\n",
        "\n",
        "import matplotlib as mpt\n",
        "import matplotlib.pyplot as plt\n",
        "import numpy as np\n",
        "import pandas as pd\n",
        "\n",
        "data =  pd.read_csv('/content/drive/MyDrive/Classroom/CS245_65-1 870001_650001/aug_test.csv', encoding = \"ISO-8859-1\")"
      ],
      "metadata": {
        "id": "itsWT9tzcsvI",
        "colab": {
          "base_uri": "https://localhost:8080/"
        },
        "outputId": "a4bc9f48-e827-4a75-c9d4-6067217434c8"
      },
      "execution_count": null,
      "outputs": [
        {
          "output_type": "stream",
          "name": "stdout",
          "text": [
            "Mounted at /content/drive\n"
          ]
        }
      ]
    },
    {
      "cell_type": "markdown",
      "source": [
        "# Display Data Set"
      ],
      "metadata": {
        "id": "5WIqZxbJiMSV"
      }
    },
    {
      "cell_type": "code",
      "source": [
        "print(data)"
      ],
      "metadata": {
        "id": "qg7IT3nOecs9",
        "colab": {
          "base_uri": "https://localhost:8080/"
        },
        "outputId": "48bd2b6c-2b50-4295-8b4d-79a6f0d10a71"
      },
      "execution_count": null,
      "outputs": [
        {
          "output_type": "stream",
          "name": "stdout",
          "text": [
            "      enrollee_id      city  city_development_index  gender  \\\n",
            "0           32403   city_41                   0.827    Male   \n",
            "1            9858  city_103                   0.920  Female   \n",
            "2           31806   city_21                   0.624    Male   \n",
            "3           27385   city_13                   0.827    Male   \n",
            "4           27724  city_103                   0.920    Male   \n",
            "...           ...       ...                     ...     ...   \n",
            "2124         1289  city_103                   0.920    Male   \n",
            "2125          195  city_136                   0.897    Male   \n",
            "2126        31762  city_100                   0.887    Male   \n",
            "2127         7873  city_102                   0.804    Male   \n",
            "2128        12215  city_102                   0.804    Male   \n",
            "\n",
            "          relevent_experience enrolled_university education_level  \\\n",
            "0     Has relevent experience    Full time course        Graduate   \n",
            "1     Has relevent experience       no_enrollment        Graduate   \n",
            "2      No relevent experience       no_enrollment     High School   \n",
            "3     Has relevent experience       no_enrollment         Masters   \n",
            "4     Has relevent experience       no_enrollment        Graduate   \n",
            "...                       ...                 ...             ...   \n",
            "2124   No relevent experience       no_enrollment        Graduate   \n",
            "2125  Has relevent experience       no_enrollment         Masters   \n",
            "2126   No relevent experience       no_enrollment  Primary School   \n",
            "2127  Has relevent experience    Full time course     High School   \n",
            "2128  Has relevent experience       no_enrollment         Masters   \n",
            "\n",
            "     major_discipline experience company_size   company_type last_new_job  \\\n",
            "0                STEM          9          <10            NaN            1   \n",
            "1                STEM          5          NaN        Pvt Ltd            1   \n",
            "2                 NaN         <1          NaN        Pvt Ltd        never   \n",
            "3                STEM         11        10/49        Pvt Ltd            1   \n",
            "4                STEM        >20       10000+        Pvt Ltd           >4   \n",
            "...               ...        ...          ...            ...          ...   \n",
            "2124       Humanities         16          NaN  Public Sector            4   \n",
            "2125             STEM         18          NaN            NaN            2   \n",
            "2126              NaN          3          NaN        Pvt Ltd        never   \n",
            "2127              NaN          7      100-500  Public Sector            1   \n",
            "2128             STEM         15       10000+        Pvt Ltd            2   \n",
            "\n",
            "      training_hours  \n",
            "0                 21  \n",
            "1                 98  \n",
            "2                 15  \n",
            "3                 39  \n",
            "4                 72  \n",
            "...              ...  \n",
            "2124              15  \n",
            "2125              30  \n",
            "2126              18  \n",
            "2127              84  \n",
            "2128              11  \n",
            "\n",
            "[2129 rows x 13 columns]\n"
          ]
        }
      ]
    },
    {
      "cell_type": "markdown",
      "source": [
        "# Display Summary Information"
      ],
      "metadata": {
        "id": "8zmJmv9AiSQ1"
      }
    },
    {
      "cell_type": "code",
      "source": [
        "data.info()"
      ],
      "metadata": {
        "id": "zB7lrbuFiR-D",
        "colab": {
          "base_uri": "https://localhost:8080/"
        },
        "outputId": "d3a0de96-1033-4834-f3e8-edc2d822336b"
      },
      "execution_count": null,
      "outputs": [
        {
          "output_type": "stream",
          "name": "stdout",
          "text": [
            "<class 'pandas.core.frame.DataFrame'>\n",
            "RangeIndex: 2129 entries, 0 to 2128\n",
            "Data columns (total 13 columns):\n",
            " #   Column                  Non-Null Count  Dtype  \n",
            "---  ------                  --------------  -----  \n",
            " 0   enrollee_id             2129 non-null   int64  \n",
            " 1   city                    2129 non-null   object \n",
            " 2   city_development_index  2129 non-null   float64\n",
            " 3   gender                  1621 non-null   object \n",
            " 4   relevent_experience     2129 non-null   object \n",
            " 5   enrolled_university     2098 non-null   object \n",
            " 6   education_level         2077 non-null   object \n",
            " 7   major_discipline        1817 non-null   object \n",
            " 8   experience              2124 non-null   object \n",
            " 9   company_size            1507 non-null   object \n",
            " 10  company_type            1495 non-null   object \n",
            " 11  last_new_job            2089 non-null   object \n",
            " 12  training_hours          2129 non-null   int64  \n",
            "dtypes: float64(1), int64(2), object(10)\n",
            "memory usage: 216.4+ KB\n"
          ]
        }
      ]
    },
    {
      "cell_type": "code",
      "source": [
        "data.describe()"
      ],
      "metadata": {
        "id": "nRRlzRcoiVMt",
        "colab": {
          "base_uri": "https://localhost:8080/",
          "height": 300
        },
        "outputId": "7792365a-5139-4f77-fdba-a8a0daaceb17"
      },
      "execution_count": null,
      "outputs": [
        {
          "output_type": "execute_result",
          "data": {
            "text/plain": [
              "        enrollee_id  city_development_index  training_hours\n",
              "count   2129.000000             2129.000000     2129.000000\n",
              "mean   16861.614843                0.824984       64.983091\n",
              "std     9576.846029                0.125074       60.238660\n",
              "min        3.000000                0.448000        1.000000\n",
              "25%     8562.000000                0.698000       23.000000\n",
              "50%    16816.000000                0.903000       47.000000\n",
              "75%    25129.000000                0.920000       86.000000\n",
              "max    33353.000000                0.949000      334.000000"
            ],
            "text/html": [
              "\n",
              "  <div id=\"df-e864f7be-d81e-41d7-8f53-7352f3b83905\">\n",
              "    <div class=\"colab-df-container\">\n",
              "      <div>\n",
              "<style scoped>\n",
              "    .dataframe tbody tr th:only-of-type {\n",
              "        vertical-align: middle;\n",
              "    }\n",
              "\n",
              "    .dataframe tbody tr th {\n",
              "        vertical-align: top;\n",
              "    }\n",
              "\n",
              "    .dataframe thead th {\n",
              "        text-align: right;\n",
              "    }\n",
              "</style>\n",
              "<table border=\"1\" class=\"dataframe\">\n",
              "  <thead>\n",
              "    <tr style=\"text-align: right;\">\n",
              "      <th></th>\n",
              "      <th>enrollee_id</th>\n",
              "      <th>city_development_index</th>\n",
              "      <th>training_hours</th>\n",
              "    </tr>\n",
              "  </thead>\n",
              "  <tbody>\n",
              "    <tr>\n",
              "      <th>count</th>\n",
              "      <td>2129.000000</td>\n",
              "      <td>2129.000000</td>\n",
              "      <td>2129.000000</td>\n",
              "    </tr>\n",
              "    <tr>\n",
              "      <th>mean</th>\n",
              "      <td>16861.614843</td>\n",
              "      <td>0.824984</td>\n",
              "      <td>64.983091</td>\n",
              "    </tr>\n",
              "    <tr>\n",
              "      <th>std</th>\n",
              "      <td>9576.846029</td>\n",
              "      <td>0.125074</td>\n",
              "      <td>60.238660</td>\n",
              "    </tr>\n",
              "    <tr>\n",
              "      <th>min</th>\n",
              "      <td>3.000000</td>\n",
              "      <td>0.448000</td>\n",
              "      <td>1.000000</td>\n",
              "    </tr>\n",
              "    <tr>\n",
              "      <th>25%</th>\n",
              "      <td>8562.000000</td>\n",
              "      <td>0.698000</td>\n",
              "      <td>23.000000</td>\n",
              "    </tr>\n",
              "    <tr>\n",
              "      <th>50%</th>\n",
              "      <td>16816.000000</td>\n",
              "      <td>0.903000</td>\n",
              "      <td>47.000000</td>\n",
              "    </tr>\n",
              "    <tr>\n",
              "      <th>75%</th>\n",
              "      <td>25129.000000</td>\n",
              "      <td>0.920000</td>\n",
              "      <td>86.000000</td>\n",
              "    </tr>\n",
              "    <tr>\n",
              "      <th>max</th>\n",
              "      <td>33353.000000</td>\n",
              "      <td>0.949000</td>\n",
              "      <td>334.000000</td>\n",
              "    </tr>\n",
              "  </tbody>\n",
              "</table>\n",
              "</div>\n",
              "      <button class=\"colab-df-convert\" onclick=\"convertToInteractive('df-e864f7be-d81e-41d7-8f53-7352f3b83905')\"\n",
              "              title=\"Convert this dataframe to an interactive table.\"\n",
              "              style=\"display:none;\">\n",
              "        \n",
              "  <svg xmlns=\"http://www.w3.org/2000/svg\" height=\"24px\"viewBox=\"0 0 24 24\"\n",
              "       width=\"24px\">\n",
              "    <path d=\"M0 0h24v24H0V0z\" fill=\"none\"/>\n",
              "    <path d=\"M18.56 5.44l.94 2.06.94-2.06 2.06-.94-2.06-.94-.94-2.06-.94 2.06-2.06.94zm-11 1L8.5 8.5l.94-2.06 2.06-.94-2.06-.94L8.5 2.5l-.94 2.06-2.06.94zm10 10l.94 2.06.94-2.06 2.06-.94-2.06-.94-.94-2.06-.94 2.06-2.06.94z\"/><path d=\"M17.41 7.96l-1.37-1.37c-.4-.4-.92-.59-1.43-.59-.52 0-1.04.2-1.43.59L10.3 9.45l-7.72 7.72c-.78.78-.78 2.05 0 2.83L4 21.41c.39.39.9.59 1.41.59.51 0 1.02-.2 1.41-.59l7.78-7.78 2.81-2.81c.8-.78.8-2.07 0-2.86zM5.41 20L4 18.59l7.72-7.72 1.47 1.35L5.41 20z\"/>\n",
              "  </svg>\n",
              "      </button>\n",
              "      \n",
              "  <style>\n",
              "    .colab-df-container {\n",
              "      display:flex;\n",
              "      flex-wrap:wrap;\n",
              "      gap: 12px;\n",
              "    }\n",
              "\n",
              "    .colab-df-convert {\n",
              "      background-color: #E8F0FE;\n",
              "      border: none;\n",
              "      border-radius: 50%;\n",
              "      cursor: pointer;\n",
              "      display: none;\n",
              "      fill: #1967D2;\n",
              "      height: 32px;\n",
              "      padding: 0 0 0 0;\n",
              "      width: 32px;\n",
              "    }\n",
              "\n",
              "    .colab-df-convert:hover {\n",
              "      background-color: #E2EBFA;\n",
              "      box-shadow: 0px 1px 2px rgba(60, 64, 67, 0.3), 0px 1px 3px 1px rgba(60, 64, 67, 0.15);\n",
              "      fill: #174EA6;\n",
              "    }\n",
              "\n",
              "    [theme=dark] .colab-df-convert {\n",
              "      background-color: #3B4455;\n",
              "      fill: #D2E3FC;\n",
              "    }\n",
              "\n",
              "    [theme=dark] .colab-df-convert:hover {\n",
              "      background-color: #434B5C;\n",
              "      box-shadow: 0px 1px 3px 1px rgba(0, 0, 0, 0.15);\n",
              "      filter: drop-shadow(0px 1px 2px rgba(0, 0, 0, 0.3));\n",
              "      fill: #FFFFFF;\n",
              "    }\n",
              "  </style>\n",
              "\n",
              "      <script>\n",
              "        const buttonEl =\n",
              "          document.querySelector('#df-e864f7be-d81e-41d7-8f53-7352f3b83905 button.colab-df-convert');\n",
              "        buttonEl.style.display =\n",
              "          google.colab.kernel.accessAllowed ? 'block' : 'none';\n",
              "\n",
              "        async function convertToInteractive(key) {\n",
              "          const element = document.querySelector('#df-e864f7be-d81e-41d7-8f53-7352f3b83905');\n",
              "          const dataTable =\n",
              "            await google.colab.kernel.invokeFunction('convertToInteractive',\n",
              "                                                     [key], {});\n",
              "          if (!dataTable) return;\n",
              "\n",
              "          const docLinkHtml = 'Like what you see? Visit the ' +\n",
              "            '<a target=\"_blank\" href=https://colab.research.google.com/notebooks/data_table.ipynb>data table notebook</a>'\n",
              "            + ' to learn more about interactive tables.';\n",
              "          element.innerHTML = '';\n",
              "          dataTable['output_type'] = 'display_data';\n",
              "          await google.colab.output.renderOutput(dataTable, element);\n",
              "          const docLink = document.createElement('div');\n",
              "          docLink.innerHTML = docLinkHtml;\n",
              "          element.appendChild(docLink);\n",
              "        }\n",
              "      </script>\n",
              "    </div>\n",
              "  </div>\n",
              "  "
            ]
          },
          "metadata": {},
          "execution_count": 4
        }
      ]
    },
    {
      "cell_type": "markdown",
      "source": [
        "# Data Cleansing"
      ],
      "metadata": {
        "id": "Ey0qAeMSjbNt"
      }
    },
    {
      "cell_type": "code",
      "source": [
        "#Checking NaN values in every column\n",
        "booleanindex = data.isnull()\n",
        "data_NaN = booleanindex.sum()\n",
        "dataList_NaN = {x:data[x].isnull().sum() for x in data.columns if data[x].isnull().sum()>0}\n",
        "print(dict(sorted(dataList_NaN.items(),reverse=True)))"
      ],
      "metadata": {
        "id": "bLh6BX_zkMtP",
        "colab": {
          "base_uri": "https://localhost:8080/"
        },
        "outputId": "3685a50e-174f-421f-e659-922320d03cd9"
      },
      "execution_count": null,
      "outputs": [
        {
          "output_type": "stream",
          "name": "stdout",
          "text": [
            "{'major_discipline': 312, 'last_new_job': 40, 'gender': 508, 'experience': 5, 'enrolled_university': 31, 'education_level': 52, 'company_type': 634, 'company_size': 622}\n"
          ]
        }
      ]
    },
    {
      "cell_type": "code",
      "source": [
        "#Check whether there is any duplicate in the dataset.\n",
        "print(\"Number of duplicate found = \",(data.duplicated().sum()))"
      ],
      "metadata": {
        "id": "TMWw4ttFMQdL",
        "colab": {
          "base_uri": "https://localhost:8080/"
        },
        "outputId": "5edaf8ac-7425-4a9b-dd77-8f958d345159"
      },
      "execution_count": null,
      "outputs": [
        {
          "output_type": "stream",
          "name": "stdout",
          "text": [
            "Number of duplicate found =  0\n"
          ]
        }
      ]
    },
    {
      "cell_type": "code",
      "source": [
        "#Drop NaN value in column education_level and enrolled_university\n",
        "data = data[data['education_level'].notna()]\n",
        "data.isnull().sum()"
      ],
      "metadata": {
        "id": "i3vi9BX1FmaF",
        "colab": {
          "base_uri": "https://localhost:8080/"
        },
        "outputId": "ebcf34b1-3b1f-4760-ed99-a61f17be5cad"
      },
      "execution_count": null,
      "outputs": [
        {
          "output_type": "execute_result",
          "data": {
            "text/plain": [
              "enrollee_id                 0\n",
              "city                        0\n",
              "city_development_index      0\n",
              "gender                    471\n",
              "relevent_experience         0\n",
              "enrolled_university         0\n",
              "education_level             0\n",
              "major_discipline          254\n",
              "experience                  3\n",
              "company_size              585\n",
              "company_type              592\n",
              "last_new_job               30\n",
              "training_hours              0\n",
              "dtype: int64"
            ]
          },
          "metadata": {},
          "execution_count": 7
        }
      ]
    },
    {
      "cell_type": "markdown",
      "source": [
        "# Data Validity"
      ],
      "metadata": {
        "id": "sbOOC5Rqk9pY"
      }
    },
    {
      "cell_type": "code",
      "source": [
        "#Fill blank in enrolled_university with 'no_enrollement'\n",
        "data.replace({'enrolled_university':{'':'no_enrollement'}},inplace=True)"
      ],
      "metadata": {
        "id": "x2XXVDBO9iDw"
      },
      "execution_count": null,
      "outputs": []
    },
    {
      "cell_type": "code",
      "source": [
        "#Replace string type that cannot convert to integer to string type that can convert to integer\n",
        "data.replace({'last_new_job':{'never':'-1','>4':'5'}},inplace=True)\n",
        "#Fill all NaN value with mode value of dataset\n",
        "data['last_new_job'].fillna(data['last_new_job'].mode()[0], inplace = True)\n",
        "#Change datatype object to integer64\n",
        "data['last_new_job'] = data['last_new_job'].astype(int)\n",
        "data.dtypes"
      ],
      "metadata": {
        "id": "42oTNzHvRZVv",
        "colab": {
          "base_uri": "https://localhost:8080/"
        },
        "outputId": "85c1c9f0-8d6b-4942-b395-110509fa4adc"
      },
      "execution_count": null,
      "outputs": [
        {
          "output_type": "execute_result",
          "data": {
            "text/plain": [
              "enrollee_id                 int64\n",
              "city                       object\n",
              "city_development_index    float64\n",
              "gender                     object\n",
              "relevent_experience        object\n",
              "enrolled_university        object\n",
              "education_level            object\n",
              "major_discipline           object\n",
              "experience                 object\n",
              "company_size               object\n",
              "company_type               object\n",
              "last_new_job                int64\n",
              "training_hours              int64\n",
              "dtype: object"
            ]
          },
          "metadata": {},
          "execution_count": 9
        }
      ]
    },
    {
      "cell_type": "code",
      "source": [
        "#Fill blank in column gender with 'Other'\n",
        "data.replace({'gender':{'':'Other'}},inplace=True)"
      ],
      "metadata": {
        "id": "OSai1C16eVK5"
      },
      "execution_count": null,
      "outputs": []
    },
    {
      "cell_type": "code",
      "source": [
        "#Classify the company size and fill NaN with 0\n",
        "data.replace({'company_size':{'<10':'small','50-99':'small','100-500':'small','500-999':'small','1000-4999':'medium','50000-9999':'medium','10000+':'large','1/10/1949':'0','':'0'}},inplace=True)\n",
        "data['company_size'] = data['company_size'].fillna(0)"
      ],
      "metadata": {
        "id": "bTSax98GfMbm"
      },
      "execution_count": null,
      "outputs": []
    },
    {
      "cell_type": "code",
      "source": [
        "#Valid experience column\n",
        "data.replace({'experience':{'<1':'0.5','>20':'21'}},inplace=True)\n",
        "#Change datatype object to float64\n",
        "data['experience'] = data['experience'].astype(float)\n",
        "data.dtypes"
      ],
      "metadata": {
        "id": "z9eUCDq_mGC2",
        "colab": {
          "base_uri": "https://localhost:8080/"
        },
        "outputId": "406041a5-9f8f-4625-b178-e974e5f5538d"
      },
      "execution_count": null,
      "outputs": [
        {
          "output_type": "execute_result",
          "data": {
            "text/plain": [
              "enrollee_id                 int64\n",
              "city                       object\n",
              "city_development_index    float64\n",
              "gender                     object\n",
              "relevent_experience        object\n",
              "enrolled_university        object\n",
              "education_level            object\n",
              "major_discipline           object\n",
              "experience                float64\n",
              "company_size               object\n",
              "company_type               object\n",
              "last_new_job                int64\n",
              "training_hours              int64\n",
              "dtype: object"
            ]
          },
          "metadata": {},
          "execution_count": 12
        }
      ]
    },
    {
      "cell_type": "code",
      "source": [
        "#Fill blank in column major_discipline with 'Other'\n",
        "data.replace({'major_discipline':{'':'Other'}},inplace=True)"
      ],
      "metadata": {
        "id": "Dhk4Q5mDorcd"
      },
      "execution_count": null,
      "outputs": []
    },
    {
      "cell_type": "code",
      "source": [
        "#Fill blank in column company_type with 'Other'\n",
        "data.replace({'company_type':{'':'Other'}},inplace=True)"
      ],
      "metadata": {
        "id": "ugrqNLSDt8Ib"
      },
      "execution_count": null,
      "outputs": []
    },
    {
      "cell_type": "markdown",
      "source": [
        "# Data Wrangling and Data Visualization"
      ],
      "metadata": {
        "id": "HlJ95K079jcL"
      }
    },
    {
      "cell_type": "markdown",
      "source": [
        "pie chart represents Percentage of data scientists education levels to job turnover"
      ],
      "metadata": {
        "id": "pi0e9XX5q1EQ"
      }
    },
    {
      "cell_type": "code",
      "source": [
        "ed_level = data[data['last_new_job'] > 0].groupby('education_level').enrollee_id.count()\n",
        "alled_level = data.groupby('education_level').enrollee_id.count()\n",
        "percent_edlevel = [round(x / y * 100, 2) for x, y in zip(ed_level, alled_level)]\n",
        "\n",
        "colour = [\"blue\", \"orange\", \"green\"]\n",
        "bar = plt.bar(ed_level.index,  percent_edlevel, color=colour)\n",
        "i = 0\n",
        "for p in bar:\n",
        "    width = p.get_width()\n",
        "    height = p.get_height()\n",
        "    x, y = p.get_xy()\n",
        "    plt.text(x+width/2, y+height*1.01, str(percent_edlevel[i])+'%', ha='center')\n",
        "    i+=1\n",
        "\n",
        "plt.title('Percent of Changing Job By Education Level of Data Scientists')\n",
        "plt.xlabel(\"Education Level\")\n",
        "plt.ylabel(\"Percentage of Job Mover by Education Level\")\n",
        "plt.show() "
      ],
      "metadata": {
        "id": "7MWzR0rk_nco",
        "colab": {
          "base_uri": "https://localhost:8080/",
          "height": 472
        },
        "outputId": "d5bf0c9c-a2ab-4f8e-edc8-6a91d94644ba"
      },
      "execution_count": null,
      "outputs": [
        {
          "output_type": "display_data",
          "data": {
            "text/plain": [
              "<Figure size 640x480 with 1 Axes>"
            ],
            "image/png": "[encoded data removed]"
          },
          "metadata": {}
        }
      ]
    },
    {
      "cell_type": "markdown",
      "source": [
        "bar chart represents the percentage of people who move jobs by type of university enrollment."
      ],
      "metadata": {
        "id": "uYwqy9CjubBq"
      }
    },
    {
      "cell_type": "code",
      "source": [
        "plt.style.use('default')\n",
        "\n",
        "enr_uni = data[data['last_new_job'] > 0].groupby('enrolled_university').enrollee_id.count()\n",
        "allenr_uni = data.groupby('enrolled_university').enrollee_id.count()\n",
        "percent_enruni = [round(x / y * 100, 2) for x, y in zip(enr_uni, allenr_uni)]\n",
        "\n",
        "colour = [\"blue\", \"orange\", \"green\"]\n",
        "bar = plt.bar(enr_uni.index,  percent_enruni,color=colour)\n",
        "i = 0\n",
        "for p in bar:\n",
        "    width = p.get_width()\n",
        "    height = p.get_height()\n",
        "    x, y = p.get_xy()\n",
        "    plt.text(x+width/2, y+height*1.01, str(percent_enruni[i])+'%', ha='center')\n",
        "    i+=1\n",
        "\n",
        "plt.title(\"Job Change Trends Among Data Scientists by Enrolled in Unversities\")\n",
        "plt.xlabel(\"Type of University Enrollment\")\n",
        "plt.ylabel(\"Percentage of Job Mover by University Enrollment\")\n",
        "plt.show()"
      ],
      "metadata": {
        "id": "hcVBOJ1Qubfe",
        "colab": {
          "base_uri": "https://localhost:8080/",
          "height": 472
        },
        "outputId": "cadddae8-3385-4104-d834-04ac7939aa60"
      },
      "execution_count": null,
      "outputs": [
        {
          "output_type": "display_data",
          "data": {
            "text/plain": [
              "<Figure size 640x480 with 1 Axes>"
            ],
            "image/png": "[encoded data removed]"
          },
          "metadata": {}
        }
      ]
    },
    {
      "cell_type": "markdown",
      "source": [
        "bar chart represents  the number of data scientists changing jobs based on the city development index."
      ],
      "metadata": {
        "id": "H7kpc1sH5YYH"
      }
    },
    {
      "cell_type": "code",
      "source": [
        "from os import confstr_names\n",
        "plt.style.use('default')\n",
        "\n",
        "ct = data[data['last_new_job'] > 0].groupby(['city', 'city_development_index']).enrollee_id.count().nlargest(10)\n",
        "ct_names = [ct.index[x][0] for x in np.arange(len(ct))]\n",
        "print(ct)\n",
        "\n",
        "fig, ax = plt.subplots(figsize=(15, 5))\n",
        "bar = plt.bar(ct_names,  ct, color='blue')\n",
        "i = 0\n",
        "for p in bar:\n",
        "    width = p.get_width()\n",
        "    height = p.get_height()\n",
        "    x, y = p.get_xy()\n",
        "    plt.text(x+width/2, y+height*1.01, str(ct.index[i][1]), ha='center')\n",
        "    i+=1\n",
        "\n",
        "plt.title(\"Top Ten Cities Development Index of The Cities that Change Jobs Most\")\n",
        "plt.xlabel(\"city\")\n",
        "plt.ylabel(\"Number of Data Scientists Changing Jobs\")\n",
        "plt.show()"
      ],
      "metadata": {
        "colab": {
          "base_uri": "https://localhost:8080/",
          "height": 695
        },
        "id": "opR4LCS95YuL",
        "outputId": "a768ae64-aed3-4035-c9de-76ecc8a8ae93"
      },
      "execution_count": null,
      "outputs": [
        {
          "output_type": "stream",
          "name": "stdout",
          "text": [
            "city      city_development_index\n",
            "city_103  0.920                     435\n",
            "city_21   0.624                     234\n",
            "city_16   0.910                     154\n",
            "city_114  0.926                     125\n",
            "city_160  0.920                     104\n",
            "city_136  0.897                      54\n",
            "city_67   0.855                      34\n",
            "city_102  0.804                      27\n",
            "city_71   0.884                      27\n",
            "city_11   0.550                      25\n",
            "Name: enrollee_id, dtype: int64\n"
          ]
        },
        {
          "output_type": "display_data",
          "data": {
            "text/plain": [
              "<Figure size 1500x500 with 1 Axes>"
            ],
            "image/png": "[encoded data removed]"
          },
          "metadata": {}
        }
      ]
    }
  ]
}